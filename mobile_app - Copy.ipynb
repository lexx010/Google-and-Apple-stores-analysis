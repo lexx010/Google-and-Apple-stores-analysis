{
 "cells": [
  {
   "cell_type": "markdown",
   "id": "9a3f5a59",
   "metadata": {},
   "source": [
    "# Profitable App Profiles for the App Store and Google Play Markets\n",
    "Our project objective is to identify profitable mobile app profiles suitable for both the App Store and Google Play markets. As data analysts within a company specializing in Android and iOS app development, our role is to empower our developers with data-driven insights for strategic decision-making.\n",
    "\n",
    "In our company, we exclusively focus on creating apps that are free to download and install, generating revenue primarily through in-app advertisements. The success of each app is closely tied to user engagement. Therefore, our aim in this analysis is to provide valuable data that guides our developers in creating apps likely to attract a larger user base."
   ]
  },
  {
   "cell_type": "markdown",
   "id": "b71d580a",
   "metadata": {},
   "source": [
    "### Opening and Exploring the Data\n",
    "As of September 2018, there were approximately 2 million iOS apps available on the App Store, and 2.1 million Android apps on Google Play. Collecting data for over 4 million apps requires a significant amount of time and money, so we'll try to analyze a sample of the data instead. To avoid spending resources on collecting new data ourselves, we should first try to see if we can find any relevant existing data at no cost.\n"
   ]
  },
  {
   "cell_type": "code",
   "execution_count": 1,
   "id": "21ac8507",
   "metadata": {},
   "outputs": [],
   "source": [
    "#opening datasets\n",
    "from csv import reader\n",
    "#open Google Store dataset\n",
    "with open(\"googleplaystore.csv\", encoding=\"utf8\") as google_file:\n",
    "    read_file = reader(google_file)\n",
    "    android = list(read_file)\n",
    "    android_header = android[0]\n",
    "    android = android[1:]\n",
    "\n",
    "#open AppStore dataset\n",
    "with open(\"AppleStore.csv\", encoding=\"utf8\") as app_file:\n",
    "    read_file = reader(app_file)\n",
    "    ios = list(read_file)\n",
    "    ios_header = ios[0]\n",
    "    ios = ios[1:]\n",
    "    \n"
   ]
  },
  {
   "cell_type": "markdown",
   "id": "b84f4ca9",
   "metadata": {},
   "source": [
    "\n",
    "- To simplify your exploration, we've developed a function called explore_data(). You can use this function repeatedly to display rows in a clear and readable format."
   ]
  },
  {
   "cell_type": "code",
   "execution_count": 2,
   "id": "88880b10",
   "metadata": {},
   "outputs": [],
   "source": [
    "def explore_data(dataset, start, end, rows_and_columns=False):\n",
    "    dataset_slice = dataset[start:end]    \n",
    "    for row in dataset_slice:\n",
    "        print(row)\n",
    "        print('\\n') # adds a new (empty) line after each row\n",
    "\n",
    "    if rows_and_columns:\n",
    "        print('Number of rows:', len(dataset))\n",
    "        print('Number of columns:', len(dataset[0]))"
   ]
  },
  {
   "cell_type": "code",
   "execution_count": 3,
   "id": "825b3a36",
   "metadata": {},
   "outputs": [
    {
     "name": "stdout",
     "output_type": "stream",
     "text": [
      "['284882215', 'Facebook', '389879808', 'USD', '0.0', '2974676', '212', '3.5', '3.5', '95.0', '4+', 'Social Networking', '37', '1', '29', '1']\n",
      "\n",
      "\n",
      "['389801252', 'Instagram', '113954816', 'USD', '0.0', '2161558', '1289', '4.5', '4.0', '10.23', '12+', 'Photo & Video', '37', '0', '29', '1']\n",
      "\n",
      "\n",
      "['529479190', 'Clash of Clans', '116476928', 'USD', '0.0', '2130805', '579', '4.5', '4.5', '9.24.12', '9+', 'Games', '38', '5', '18', '1']\n",
      "\n",
      "\n"
     ]
    }
   ],
   "source": [
    "explore_data(ios,0,3, rows_and_columns=False)"
   ]
  },
  {
   "cell_type": "code",
   "execution_count": 4,
   "id": "0635b0bf",
   "metadata": {},
   "outputs": [
    {
     "name": "stdout",
     "output_type": "stream",
     "text": [
      "['Photo Editor & Candy Camera & Grid & ScrapBook', 'ART_AND_DESIGN', '4.1', '159', '19M', '10,000+', 'Free', '0', 'Everyone', 'Art & Design', 'January 7, 2018', '1.0.0', '4.0.3 and up']\n",
      "\n",
      "\n",
      "['Coloring book moana', 'ART_AND_DESIGN', '3.9', '967', '14M', '500,000+', 'Free', '0', 'Everyone', 'Art & Design;Pretend Play', 'January 15, 2018', '2.0.0', '4.0.3 and up']\n",
      "\n",
      "\n",
      "['U Launcher Lite – FREE Live Cool Themes, Hide Apps', 'ART_AND_DESIGN', '4.7', '87510', '8.7M', '5,000,000+', 'Free', '0', 'Everyone', 'Art & Design', 'August 1, 2018', '1.2.4', '4.0.3 and up']\n",
      "\n",
      "\n"
     ]
    }
   ],
   "source": [
    "explore_data(android,0,3, rows_and_columns=False)"
   ]
  },
  {
   "cell_type": "markdown",
   "id": "5d057c78",
   "metadata": {},
   "source": [
    "### Determining the number of rows and columns in the datasets.\n",
    "- Google Play store: 13 columns, 10841 rows\n",
    "- App Store: 16 columns, 7197 rows."
   ]
  },
  {
   "cell_type": "code",
   "execution_count": 5,
   "id": "06a92733",
   "metadata": {},
   "outputs": [
    {
     "name": "stdout",
     "output_type": "stream",
     "text": [
      "Number of columns:13\n",
      "Number of rows: 10841\n"
     ]
    }
   ],
   "source": [
    "#Google Play Store\n",
    "# Number of columns is the length of the header\n",
    "num_columns = len(android_header)\n",
    "print(f'Number of columns:{num_columns}')\n",
    "\n",
    "# Number of rows is the length of the data\n",
    "num_rows = len(android)\n",
    "print(f'Number of rows: {num_rows}')"
   ]
  },
  {
   "cell_type": "code",
   "execution_count": 6,
   "id": "7e2817d9",
   "metadata": {},
   "outputs": [
    {
     "name": "stdout",
     "output_type": "stream",
     "text": [
      "Number of columns: 16\n",
      "Number of rows: 7197\n"
     ]
    }
   ],
   "source": [
    "#Apple Store\n",
    "# Number of columns is the length of the header\n",
    "num_columns = len(ios_header)\n",
    "print(f'Number of columns: {num_columns}')\n",
    "\n",
    "# Number of rows is the length of the data\n",
    "num_rows = len(ios)\n",
    "print(f'Number of rows: {num_rows}')"
   ]
  },
  {
   "cell_type": "markdown",
   "id": "ee214032",
   "metadata": {},
   "source": [
    "### Analyzing columns` names. \n"
   ]
  },
  {
   "cell_type": "code",
   "execution_count": 7,
   "id": "11b0019a",
   "metadata": {},
   "outputs": [
    {
     "name": "stdout",
     "output_type": "stream",
     "text": [
      "['App', 'Category', 'Rating', 'Reviews', 'Size', 'Installs', 'Type', 'Price', 'Content Rating', 'Genres', 'Last Updated', 'Current Ver', 'Android Ver']\n"
     ]
    }
   ],
   "source": [
    "#Google Play store columns\n",
    "print(android_header)\n"
   ]
  },
  {
   "cell_type": "markdown",
   "id": "600ce57f",
   "metadata": {},
   "source": [
    "The Google Play dataset comprises 10,841 apps and includes 13 columns. Upon initial inspection, the columns deemed potentially valuable for our analysis include 'App', 'Category', 'Reviews', 'Installs', 'Type', 'Price', and 'Genres'.More information about each columns can be found in the dataset [documentation](https://www.kaggle.com/datasets/lava18/google-play-store-apps)."
   ]
  },
  {
   "cell_type": "code",
   "execution_count": 8,
   "id": "7cd430ac",
   "metadata": {},
   "outputs": [
    {
     "name": "stdout",
     "output_type": "stream",
     "text": [
      "['id', 'track_name', 'size_bytes', 'currency', 'price', 'rating_count_tot', 'rating_count_ver', 'user_rating', 'user_rating_ver', 'ver', 'cont_rating', 'prime_genre', 'sup_devices.num', 'ipadSc_urls.num', 'lang.num', 'vpp_lic']\n"
     ]
    }
   ],
   "source": [
    "#Appstore Columns\n",
    "print(ios_header)"
   ]
  },
  {
   "cell_type": "markdown",
   "id": "cfcba35a",
   "metadata": {},
   "source": [
    "There are 7,197 iOS apps within this dataset, featuring columns such as 'track_name', 'currency', 'price', 'rating_count_tot', 'rating_count_ver', and 'prime_genre' that appear to be of particular interest. While not all column names are immediately clear, comprehensive details about each column can be referenced in the dataset [documentation](https://www.kaggle.com/datasets/ramamet4/app-store-apple-data-set-10k-apps)."
   ]
  },
  {
   "cell_type": "markdown",
   "id": "3ab33a75",
   "metadata": {},
   "source": [
    "### Data Cleaning\n",
    "We need to make sure the data we analyze is accurate, or the results of our analysis will be wrong. This means that we need to:\n",
    "\n",
    "- Detect inaccurate data, and correct or remove it.\n",
    "- Detect duplicate data, and remove the duplicates.\n",
    "\n",
    "Also, our goal is to make _Free_ apps for _English-spekaing_ audience. Thus, we need to:\n",
    "- Delete non-English app\n",
    "- Delete paid apps"
   ]
  },
  {
   "cell_type": "markdown",
   "id": "2af1bdea",
   "metadata": {},
   "source": [
    "### Deleting Wrong Data\n",
    "There is an error in row 10472 that corresponds to the app 'Life Made WI-Fi Touchscreen Photo Frame'. The rating of this app is 19, that is clearly off, because the maximum rating for a Google Play is 5. "
   ]
  },
  {
   "cell_type": "code",
   "execution_count": 9,
   "id": "01627972",
   "metadata": {},
   "outputs": [
    {
     "name": "stdout",
     "output_type": "stream",
     "text": [
      "['App', 'Category', 'Rating', 'Reviews', 'Size', 'Installs', 'Type', 'Price', 'Content Rating', 'Genres', 'Last Updated', 'Current Ver', 'Android Ver']\n",
      "['Life Made WI-Fi Touchscreen Photo Frame', '1.9', '19', '3.0M', '1,000+', 'Free', '0', 'Everyone', '', 'February 11, 2018', '1.0.19', '4.0 and up']\n"
     ]
    }
   ],
   "source": [
    "print(android_header)\n",
    "print(android[10472])"
   ]
  },
  {
   "cell_type": "code",
   "execution_count": 10,
   "id": "a9f382e1",
   "metadata": {},
   "outputs": [
    {
     "name": "stdout",
     "output_type": "stream",
     "text": [
      "[('App', 'Life Made WI-Fi Touchscreen Photo Frame'), ('Category', '1.9'), ('Rating', '19'), ('Reviews', '3.0M'), ('Size', '1,000+'), ('Installs', 'Free'), ('Type', '0'), ('Price', 'Everyone'), ('Content Rating', ''), ('Genres', 'February 11, 2018'), ('Last Updated', '1.0.19'), ('Current Ver', '4.0 and up')]\n"
     ]
    }
   ],
   "source": [
    "#Using zip() finction to demonstare that \"Rating\" for the 10472 entry is off.\n",
    "x = zip(android_header, android[10472])\n",
    "print(list(x))"
   ]
  },
  {
   "cell_type": "code",
   "execution_count": 11,
   "id": "8acb8819",
   "metadata": {
    "scrolled": true
   },
   "outputs": [
    {
     "name": "stdout",
     "output_type": "stream",
     "text": [
      "['Life Made WI-Fi Touchscreen Photo Frame', '1.9', '19', '3.0M', '1,000+', 'Free', '0', 'Everyone', '', 'February 11, 2018', '1.0.19', '4.0 and up']\n",
      "The number of colums for this entry: 12\n",
      "Index position is: 10472\n"
     ]
    }
   ],
   "source": [
    "for row in android:\n",
    "    header_len = len(android_header)\n",
    "    row_len = len(row)\n",
    "    if row_len != header_len:\n",
    "        print(row)\n",
    "        print('The number of colums for this entry:', len(row))\n",
    "        print('Index position is:',android.index(row))"
   ]
  },
  {
   "cell_type": "markdown",
   "id": "f9257132",
   "metadata": {},
   "source": [
    "We found out that entry __10472__ in the Google Play dataset is missing \"Rating\" column. The dataset contains 13 columns, but the 10472 entry has 12."
   ]
  },
  {
   "cell_type": "markdown",
   "id": "9ebe32d3",
   "metadata": {},
   "source": [
    "### Deleting the row that has an error."
   ]
  },
  {
   "cell_type": "code",
   "execution_count": 12,
   "id": "13536fa1",
   "metadata": {},
   "outputs": [
    {
     "name": "stdout",
     "output_type": "stream",
     "text": [
      "10841\n",
      "10840\n"
     ]
    }
   ],
   "source": [
    "print(len(android))\n",
    "del android[10472]\n",
    "print(len(android))"
   ]
  },
  {
   "cell_type": "markdown",
   "id": "4d9f4cca",
   "metadata": {},
   "source": [
    "### Removing Duplicate Entries\n",
    "After exploring the Google Play dataset, we can notice, that is has duplicate entries. For example, _\"Instagram\"_ can be found four times or _\"ZOOM Cloud Meetings\"_ has two duplicates."
   ]
  },
  {
   "cell_type": "code",
   "execution_count": 13,
   "id": "b1ca099f",
   "metadata": {
    "scrolled": true
   },
   "outputs": [
    {
     "name": "stdout",
     "output_type": "stream",
     "text": [
      "['Instagram', 'SOCIAL', '4.5', '66577313', 'Varies with device', '1,000,000,000+', 'Free', '0', 'Teen', 'Social', 'July 31, 2018', 'Varies with device', 'Varies with device']\n",
      "['Instagram', 'SOCIAL', '4.5', '66577446', 'Varies with device', '1,000,000,000+', 'Free', '0', 'Teen', 'Social', 'July 31, 2018', 'Varies with device', 'Varies with device']\n",
      "['Instagram', 'SOCIAL', '4.5', '66577313', 'Varies with device', '1,000,000,000+', 'Free', '0', 'Teen', 'Social', 'July 31, 2018', 'Varies with device', 'Varies with device']\n",
      "['Instagram', 'SOCIAL', '4.5', '66509917', 'Varies with device', '1,000,000,000+', 'Free', '0', 'Teen', 'Social', 'July 31, 2018', 'Varies with device', 'Varies with device']\n",
      "There are 4 duplicates.\n"
     ]
    }
   ],
   "source": [
    "count = 0\n",
    "for app in android:\n",
    "    name = app[0]\n",
    "    if name == \"Instagram\":\n",
    "        count += 1\n",
    "        print(app)\n",
    "print(f\"There are {count} duplicates.\")\n"
   ]
  },
  {
   "cell_type": "code",
   "execution_count": 14,
   "id": "cd8a44de",
   "metadata": {},
   "outputs": [
    {
     "name": "stdout",
     "output_type": "stream",
     "text": [
      "['ZOOM Cloud Meetings', 'BUSINESS', '4.4', '31614', '37M', '10,000,000+', 'Free', '0', 'Everyone', 'Business', 'July 20, 2018', '4.1.28165.0716', '4.0 and up']\n",
      "['ZOOM Cloud Meetings', 'BUSINESS', '4.4', '31614', '37M', '10,000,000+', 'Free', '0', 'Everyone', 'Business', 'July 20, 2018', '4.1.28165.0716', '4.0 and up']\n",
      "There are 2 duplicates.\n"
     ]
    }
   ],
   "source": [
    "count = 0\n",
    "for app in android:\n",
    "    name = app[0]\n",
    "    if name == \"ZOOM Cloud Meetings\":\n",
    "        count += 1\n",
    "        print(app)\n",
    "print(f\"There are {count} duplicates.\")\n"
   ]
  },
  {
   "cell_type": "code",
   "execution_count": 15,
   "id": "b520de02",
   "metadata": {},
   "outputs": [
    {
     "name": "stdout",
     "output_type": "stream",
     "text": [
      "Number of duplicate apps: 1181\n",
      "\n",
      "\n",
      "Example of duplicate apps: ['Quick PDF Scanner + OCR FREE', 'Box', 'Google My Business', 'ZOOM Cloud Meetings', 'join.me - Simple Meetings', 'Box', 'Zenefits', 'Google Ads', 'Google My Business', 'Slack']\n"
     ]
    }
   ],
   "source": [
    "duplicate_apps = []\n",
    "unique_apps = []\n",
    "for app in android:\n",
    "    name = app[0]\n",
    "    if name in unique_apps:\n",
    "        duplicate_apps.append(name)\n",
    "    else:\n",
    "        unique_apps.append(name)\n",
    "print(f'Number of duplicate apps: {len(duplicate_apps)}')\n",
    "print('\\n')\n",
    "print(f'Example of duplicate apps: {duplicate_apps[:10]}')"
   ]
  },
  {
   "cell_type": "markdown",
   "id": "091b27a6",
   "metadata": {},
   "source": [
    "The total number of duplicates in the Google Play dataset is __1181__ . \n",
    "We will not remove the duplicated randomly, instead we can examine the number of reviews: the higer number of reviews, the more recent the data should be."
   ]
  },
  {
   "cell_type": "code",
   "execution_count": 42,
   "id": "51e09a9f",
   "metadata": {},
   "outputs": [
    {
     "name": "stdout",
     "output_type": "stream",
     "text": [
      "The number of reviews: 66577313\n",
      "The number of reviews: 66577446\n",
      "The number of reviews: 66577313\n",
      "The number of reviews: 66509917\n"
     ]
    }
   ],
   "source": [
    "count = 0\n",
    "for app in android:\n",
    "    name = app[0]\n",
    "    if name == \"Instagram\":\n",
    "        count += 1\n",
    "        print(\"The number of reviews:\", app[3])"
   ]
  },
  {
   "cell_type": "markdown",
   "id": "6b6f68cc",
   "metadata": {},
   "source": [
    "To remove duplicate entries and keep only one entry per app based on the criterion of the highest number of reviews, we can follow these steps:\n",
    "- Create an empty dictionary to store unique app names as keys and their corresponding highest number of reviews as values.\n",
    "- Iterate through your dataset and for each app:\n",
    "- If the app is not already in the dictionary, add it with the number of reviews as the value.\n",
    "- If the app is already in the dictionary, update the value with the maximum of the current number of reviews and the existing value.\n",
    "\n",
    "Once we have the dictionary, create a new dataset using the unique app names and their corresponding highest number of reviews."
   ]
  },
  {
   "cell_type": "code",
   "execution_count": 17,
   "id": "4f0128bd",
   "metadata": {},
   "outputs": [],
   "source": [
    "#Creating dictionary where each key is a unique app name and the corresponding dictionary value is the highest number of reviews of that app.\n",
    "reviews_max = {}\n",
    "\n",
    "for app in android:\n",
    "    name = app[0]\n",
    "    n_reviews = float(app[3])\n",
    "    if name in reviews_max and reviews_max[name] < n_reviews:\n",
    "        reviews_max[name] = n_reviews\n",
    "        \n",
    "    elif name not in reviews_max:\n",
    "        reviews_max[name] = n_reviews\n"
   ]
  },
  {
   "cell_type": "markdown",
   "id": "58bdf523",
   "metadata": {},
   "source": [
    "We found out earlier that the Google Data set has 1181 duplicates. So, we need to inspect reviews_max dictionary to make sure everything went as expected.\n"
   ]
  },
  {
   "cell_type": "code",
   "execution_count": 18,
   "id": "62da6e70",
   "metadata": {},
   "outputs": [
    {
     "name": "stdout",
     "output_type": "stream",
     "text": [
      "Expected length: 9659\n",
      "Length of the unique apps dcitionary: 9659\n"
     ]
    }
   ],
   "source": [
    "print(f'Expected length: {len(android)-1181}')\n",
    "print(f'Length of the unique apps dcitionary: {len(reviews_max)}')"
   ]
  },
  {
   "cell_type": "code",
   "execution_count": 19,
   "id": "410cd303",
   "metadata": {},
   "outputs": [
    {
     "name": "stdout",
     "output_type": "stream",
     "text": [
      "[['Photo Editor & Candy Camera & Grid & ScrapBook', 'ART_AND_DESIGN', '4.1', '159', '19M', '10,000+', 'Free', '0', 'Everyone', 'Art & Design', 'January 7, 2018', '1.0.0', '4.0.3 and up'], ['U Launcher Lite – FREE Live Cool Themes, Hide Apps', 'ART_AND_DESIGN', '4.7', '87510', '8.7M', '5,000,000+', 'Free', '0', 'Everyone', 'Art & Design', 'August 1, 2018', '1.2.4', '4.0.3 and up'], ['Sketch - Draw & Paint', 'ART_AND_DESIGN', '4.5', '215644', '25M', '50,000,000+', 'Free', '0', 'Teen', 'Art & Design', 'June 8, 2018', 'Varies with device', '4.2 and up'], ['Pixel Draw - Number Art Coloring Book', 'ART_AND_DESIGN', '4.3', '967', '2.8M', '100,000+', 'Free', '0', 'Everyone', 'Art & Design;Creativity', 'June 20, 2018', '1.1', '4.4 and up'], ['Paper flowers instructions', 'ART_AND_DESIGN', '4.4', '167', '5.6M', '50,000+', 'Free', '0', 'Everyone', 'Art & Design', 'March 26, 2017', '1.0', '2.3 and up']]\n",
      "\n",
      "\n",
      "['Photo Editor & Candy Camera & Grid & ScrapBook', 'U Launcher Lite – FREE Live Cool Themes, Hide Apps', 'Sketch - Draw & Paint', 'Pixel Draw - Number Art Coloring Book', 'Paper flowers instructions']\n"
     ]
    }
   ],
   "source": [
    "android_clean = []\n",
    "already_added = []\n",
    "\n",
    "for app in android:\n",
    "    name = app[0]\n",
    "    n_reviews = float(app[3])\n",
    "    \n",
    "    if (n_reviews == reviews_max[name]) and (name not in already_added):\n",
    "        android_clean.append(app)\n",
    "        already_added.append(name)\n",
    "\n",
    "print(android_clean[:5])\n",
    "print('\\n')\n",
    "print(already_added[:5])\n",
    "        \n",
    "    \n",
    "    \n"
   ]
  },
  {
   "cell_type": "code",
   "execution_count": 20,
   "id": "0643f561",
   "metadata": {},
   "outputs": [
    {
     "name": "stdout",
     "output_type": "stream",
     "text": [
      "['Photo Editor & Candy Camera & Grid & ScrapBook', 'ART_AND_DESIGN', '4.1', '159', '19M', '10,000+', 'Free', '0', 'Everyone', 'Art & Design', 'January 7, 2018', '1.0.0', '4.0.3 and up']\n",
      "\n",
      "\n",
      "['U Launcher Lite – FREE Live Cool Themes, Hide Apps', 'ART_AND_DESIGN', '4.7', '87510', '8.7M', '5,000,000+', 'Free', '0', 'Everyone', 'Art & Design', 'August 1, 2018', '1.2.4', '4.0.3 and up']\n",
      "\n",
      "\n",
      "['Sketch - Draw & Paint', 'ART_AND_DESIGN', '4.5', '215644', '25M', '50,000,000+', 'Free', '0', 'Teen', 'Art & Design', 'June 8, 2018', 'Varies with device', '4.2 and up']\n",
      "\n",
      "\n",
      "Number of rows: 9659\n",
      "Number of columns: 13\n"
     ]
    }
   ],
   "source": [
    "explore_data(android_clean,0,3,True)"
   ]
  },
  {
   "cell_type": "markdown",
   "id": "2a7e370a",
   "metadata": {},
   "source": [
    "### Data Cleaning: Removing Non-English Apps\n",
    "Our objective is to examine applications intended for an English-speaking audience. Upon closer inspection of the provided datasets, it is evident that both datasets include apps designed for a non-English speaking audience."
   ]
  },
  {
   "cell_type": "code",
   "execution_count": 21,
   "id": "f5a076e4",
   "metadata": {},
   "outputs": [
    {
     "name": "stdout",
     "output_type": "stream",
     "text": [
      "爱奇艺PPS -《欢乐颂2》电视剧热播\n",
      "【脱出ゲーム】絶対に最後までプレイしないで 〜謎解き＆ブロックパズル〜\n",
      "\n",
      "\n",
      "中国語 AQリスニング\n",
      "لعبة تقدر تربح DZ\n"
     ]
    }
   ],
   "source": [
    "print(ios[813][1])\n",
    "print(ios[6731][1])\n",
    "print('\\n')\n",
    "print(android_clean[4412][0])\n",
    "print(android_clean[7940][0])"
   ]
  },
  {
   "cell_type": "markdown",
   "id": "1640b6e8",
   "metadata": {},
   "source": [
    "First step is to write a function that takes a string and returns _False_ if there are more than three characters that fall outside the ASCII range(0-127); otherwise, the function returns _True_ ."
   ]
  },
  {
   "cell_type": "code",
   "execution_count": 22,
   "id": "0eddfc47",
   "metadata": {},
   "outputs": [],
   "source": [
    "def is_english(data_string):\n",
    "    count = 0\n",
    "    for ch in data_string:\n",
    "        if ord(ch) > 127:\n",
    "            count += 1\n",
    "        if count > 3:\n",
    "            return False\n",
    "    return True        "
   ]
  },
  {
   "cell_type": "markdown",
   "id": "53316309",
   "metadata": {},
   "source": [
    "Testing fuction: to check whether these app names are detected as English or non-English"
   ]
  },
  {
   "cell_type": "code",
   "execution_count": 23,
   "id": "ec6920d6",
   "metadata": {},
   "outputs": [
    {
     "name": "stdout",
     "output_type": "stream",
     "text": [
      "True\n",
      "False\n",
      "True\n",
      "True\n"
     ]
    }
   ],
   "source": [
    "print(is_english('Instagram'))\n",
    "print(is_english('爱奇艺PPS -《欢乐颂2》电视剧热播'))\n",
    "print(is_english('Docs To Go™ Free Office Suite'))\n",
    "print(is_english('Instachat 😜'))"
   ]
  },
  {
   "cell_type": "markdown",
   "id": "067607d7",
   "metadata": {},
   "source": [
    "We use the is_english() function to filter out the non-English apps for both data sets:"
   ]
  },
  {
   "cell_type": "code",
   "execution_count": 24,
   "id": "f459acc2",
   "metadata": {},
   "outputs": [
    {
     "name": "stdout",
     "output_type": "stream",
     "text": [
      "['Photo Editor & Candy Camera & Grid & ScrapBook', 'ART_AND_DESIGN', '4.1', '159', '19M', '10,000+', 'Free', '0', 'Everyone', 'Art & Design', 'January 7, 2018', '1.0.0', '4.0.3 and up']\n",
      "\n",
      "\n",
      "['U Launcher Lite – FREE Live Cool Themes, Hide Apps', 'ART_AND_DESIGN', '4.7', '87510', '8.7M', '5,000,000+', 'Free', '0', 'Everyone', 'Art & Design', 'August 1, 2018', '1.2.4', '4.0.3 and up']\n",
      "\n",
      "\n",
      "['Sketch - Draw & Paint', 'ART_AND_DESIGN', '4.5', '215644', '25M', '50,000,000+', 'Free', '0', 'Teen', 'Art & Design', 'June 8, 2018', 'Varies with device', '4.2 and up']\n",
      "\n",
      "\n",
      "Number of rows: 9614\n",
      "Number of columns: 13\n",
      "\n",
      "\n",
      "['284882215', 'Facebook', '389879808', 'USD', '0.0', '2974676', '212', '3.5', '3.5', '95.0', '4+', 'Social Networking', '37', '1', '29', '1']\n",
      "\n",
      "\n",
      "['389801252', 'Instagram', '113954816', 'USD', '0.0', '2161558', '1289', '4.5', '4.0', '10.23', '12+', 'Photo & Video', '37', '0', '29', '1']\n",
      "\n",
      "\n",
      "['529479190', 'Clash of Clans', '116476928', 'USD', '0.0', '2130805', '579', '4.5', '4.5', '9.24.12', '9+', 'Games', '38', '5', '18', '1']\n",
      "\n",
      "\n",
      "Number of rows: 6183\n",
      "Number of columns: 16\n"
     ]
    }
   ],
   "source": [
    "android_english = []\n",
    "ios_english = []\n",
    "\n",
    "for app in android_clean:\n",
    "    name = app[0]\n",
    "    if is_english(name):\n",
    "        android_english.append(app)\n",
    "\n",
    "for app in ios:\n",
    "    name = app[1]\n",
    "    if is_english(name):\n",
    "        ios_english.append(app)\n",
    "\n",
    "explore_data(android_english, 0, 3, True)\n",
    "print('\\n')\n",
    "explore_data(ios_english, 0, 3, True)"
   ]
  },
  {
   "cell_type": "markdown",
   "id": "8401e6d1",
   "metadata": {},
   "source": [
    "### Data Cleaning: Isolating the Free Apps\n",
    "We exclusively develop applications that users can download and install for free. Our primary revenue comes from in-app advertisements. Our datasets include both free and non-free apps, and for our analysis, we need to focus solely on the free apps."
   ]
  },
  {
   "cell_type": "code",
   "execution_count": 25,
   "id": "e7fee91f",
   "metadata": {},
   "outputs": [
    {
     "name": "stdout",
     "output_type": "stream",
     "text": [
      "['Photo Editor & Candy Camera & Grid & ScrapBook', 'ART_AND_DESIGN', '4.1', '159', '19M', '10,000+', 'Free', '0', 'Everyone', 'Art & Design', 'January 7, 2018', '1.0.0', '4.0.3 and up']\n",
      "\n",
      "\n",
      "['U Launcher Lite – FREE Live Cool Themes, Hide Apps', 'ART_AND_DESIGN', '4.7', '87510', '8.7M', '5,000,000+', 'Free', '0', 'Everyone', 'Art & Design', 'August 1, 2018', '1.2.4', '4.0.3 and up']\n",
      "\n",
      "\n",
      "Number of rows: 8863\n",
      "Number of columns: 13\n",
      "\n",
      "\n",
      "['TurboScan: scan documents and receipts in PDF', 'BUSINESS', '4.7', '11442', '6.8M', '100,000+', 'Paid', '$4.99', 'Everyone', 'Business', 'March 25, 2018', '1.5.2', '4.0 and up']\n",
      "\n",
      "\n",
      "['Tiny Scanner Pro: PDF Doc Scan', 'BUSINESS', '4.8', '10295', '39M', '100,000+', 'Paid', '$4.99', 'Everyone', 'Business', 'April 11, 2017', '3.4.6', '3.0 and up']\n",
      "\n",
      "\n",
      "Number of rows: 751\n",
      "Number of columns: 13\n"
     ]
    }
   ],
   "source": [
    "#Google Play Store: isolation the free apps. \n",
    "android_free = []\n",
    "android_not_free = [] #for checking purpose\n",
    "for app in android_english:\n",
    "    price = app[6]\n",
    "    if price == \"Free\":\n",
    "        android_free.append(app)\n",
    "    else:\n",
    "        android_not_free.append(app)\n",
    "        \n",
    "explore_data(android_free, 0, 2, True)\n",
    "print('\\n')\n",
    "explore_data(android_not_free, 0, 2, True)"
   ]
  },
  {
   "cell_type": "markdown",
   "id": "f6691d95",
   "metadata": {},
   "source": [
    "The _android_free_ dataset contains __8863__ rows."
   ]
  },
  {
   "cell_type": "code",
   "execution_count": 26,
   "id": "4a001286",
   "metadata": {},
   "outputs": [
    {
     "name": "stdout",
     "output_type": "stream",
     "text": [
      "Lenght of the english only android dataset: 9614\n",
      "Lenght of the english only and free android dataset: 8863\n",
      "Lenght of the english only and not free android dataset: 751\n"
     ]
    }
   ],
   "source": [
    "print(f'Lenght of the english only android dataset: {len(android_english)}')\n",
    "print(f'Lenght of the english only and free android dataset: {len(android_free)}')\n",
    "print(f'Lenght of the english only and not free android dataset: {len(android_not_free)}')\n"
   ]
  },
  {
   "cell_type": "code",
   "execution_count": 27,
   "id": "09abb965",
   "metadata": {},
   "outputs": [
    {
     "name": "stdout",
     "output_type": "stream",
     "text": [
      "['284882215', 'Facebook', '389879808', 'USD', '0.0', '2974676', '212', '3.5', '3.5', '95.0', '4+', 'Social Networking', '37', '1', '29', '1']\n",
      "\n",
      "\n",
      "['389801252', 'Instagram', '113954816', 'USD', '0.0', '2161558', '1289', '4.5', '4.0', '10.23', '12+', 'Photo & Video', '37', '0', '29', '1']\n",
      "\n",
      "\n",
      "Number of rows: 3222\n",
      "Number of columns: 16\n",
      "\n",
      "\n",
      "['362949845', 'Fruit Ninja Classic', '104590336', 'USD', '1.99', '698516', '132', '4.5', '4.0', '2.3.9', '4+', 'Games', '38', '5', '13', '1']\n",
      "\n",
      "\n",
      "['500116670', 'Clear Vision (17+)', '37879808', 'USD', '0.99', '541693', '69225', '4.5', '4.5', '1.1.3', '17+', 'Games', '43', '5', '1', '1']\n",
      "\n",
      "\n",
      "Number of rows: 2961\n",
      "Number of columns: 16\n"
     ]
    }
   ],
   "source": [
    "#Apple Store isolation the free apps.\n",
    "ios_free = []\n",
    "ios_not_free = []\n",
    "for app in ios_english:\n",
    "    price = app[4]\n",
    "    if price == \"0.0\":\n",
    "        ios_free.append(app)\n",
    "    else:\n",
    "        ios_not_free.append(app)\n",
    "        \n",
    "explore_data(ios_free, 0, 2, True)\n",
    "print('\\n')\n",
    "explore_data(ios_not_free, 0, 2, True)"
   ]
  },
  {
   "cell_type": "markdown",
   "id": "15c36c20",
   "metadata": {},
   "source": [
    "The ios final dataset contains __3222__ rows."
   ]
  },
  {
   "cell_type": "code",
   "execution_count": 28,
   "id": "3b927efb",
   "metadata": {},
   "outputs": [
    {
     "name": "stdout",
     "output_type": "stream",
     "text": [
      "Lenght of the english only ios dataset: 6183\n",
      "Lenght of the english only and free ios dataset: 3222\n",
      "Lenght of the english only and not free ios dataset: 2961\n"
     ]
    }
   ],
   "source": [
    "print(f'Lenght of the english only ios dataset: {len(ios_english)}')\n",
    "print(f'Lenght of the english only and free ios dataset: {len(ios_free)}')\n",
    "print(f'Lenght of the english only and not free ios dataset: {len(ios_not_free)}')"
   ]
  },
  {
   "cell_type": "markdown",
   "id": "2625e487",
   "metadata": {},
   "source": [
    "### Selecting the Most Common Apps by Genre\n",
    "Our objective is to identify app types that have a high potential to attract a larger user base, as our revenue is closely tied to app usage. Since our ultimate goal is to launch the app on both Google Play and the App Store, we aim to discover successful app profiles that resonate well with users on both platforms.\n",
    "\n",
    "To minimize risks and overhead, our validation strategy for an app idea is comprised of three steps:\n",
    "\n",
    "> 1. Build a minimal Android version of the app, and add it to Google Play.\n",
    "2. If the app has a good response from users, we develop it further.\n",
    "3. If the app is profitable after six months, we build an iOS version of the app and add it to the App Store."
   ]
  },
  {
   "cell_type": "markdown",
   "id": "43f12e6e",
   "metadata": {},
   "source": [
    " We need to build two functions we can use to analyze the frequency tables:\n",
    "\n",
    "- One function to generate frequency tables that show percentages\n",
    "- Another function we can use to display the percentages in a descending order"
   ]
  },
  {
   "cell_type": "code",
   "execution_count": 29,
   "id": "d8c3dd01",
   "metadata": {},
   "outputs": [],
   "source": [
    "#A function for generating frequency tables\n",
    "def freq_table(dataset, index):\n",
    "    if index < 0 or index >= len(dataset[0]):  # To ensure that the input index is valid and within the bounds of the dataset\n",
    "        raise ValueError(\"Invalid index\")\n",
    "    table = {}\n",
    "    total = 0\n",
    "    \n",
    "    for row in dataset:\n",
    "        total += 1\n",
    "        value = row[index]\n",
    "        if value in table:\n",
    "            table[value] += 1\n",
    "        else:\n",
    "            table[value] = 1\n",
    "            \n",
    "    table_percentage = {}\n",
    "    \n",
    "    for key in table:\n",
    "        percentage = (table[key] / total) * 100\n",
    "        table_percentage[key] = percentage\n",
    "    \n",
    "    return table_percentage\n",
    "\n",
    "#A function to convert the dictionary into list of tupels and sort it. \n",
    "def display_table(dataset, index):\n",
    "    table = freq_table(dataset, index)\n",
    "    table_display = []\n",
    "    \n",
    "    for key in table:\n",
    "        key_val_as_tuple = (table[key], key)\n",
    "        table_display.append(key_val_as_tuple)\n",
    "\n",
    "    table_sorted = sorted(table_display, reverse = True)\n",
    "    for entry in table_sorted:\n",
    "        print(entry[1], ':', entry[0])        \n",
    "       "
   ]
  },
  {
   "cell_type": "code",
   "execution_count": 30,
   "id": "1ef1d959",
   "metadata": {},
   "outputs": [
    {
     "name": "stdout",
     "output_type": "stream",
     "text": [
      "Games : 58.16263190564867\n",
      "Entertainment : 7.883302296710118\n",
      "Photo & Video : 4.9658597144630665\n",
      "Education : 3.662321539416512\n",
      "Social Networking : 3.2898820608317814\n",
      "Shopping : 2.60707635009311\n",
      "Utilities : 2.5139664804469275\n",
      "Sports : 2.1415270018621975\n",
      "Music : 2.0484171322160147\n",
      "Health & Fitness : 2.0173805090006205\n",
      "Productivity : 1.7380509000620732\n",
      "Lifestyle : 1.5828677839851024\n",
      "News : 1.3345747982619491\n",
      "Travel : 1.2414649286157666\n",
      "Finance : 1.1173184357541899\n",
      "Weather : 0.8690254500310366\n",
      "Food & Drink : 0.8069522036002483\n",
      "Reference : 0.5586592178770949\n",
      "Business : 0.5276225946617008\n",
      "Book : 0.4345127250155183\n",
      "Navigation : 0.186219739292365\n",
      "Medical : 0.186219739292365\n",
      "Catalogs : 0.12414649286157665\n"
     ]
    }
   ],
   "source": [
    "display_table(ios_free,11)"
   ]
  },
  {
   "cell_type": "markdown",
   "id": "fc7bf727",
   "metadata": {},
   "source": [
    "Among the free English apps, over half (58.16%) fall into the gaming category, with entertainment apps following closely at around 8%. Photo and video apps make up nearly 5%, while education-focused apps represent only 3.66%. Social networking apps account for 3.29% of the dataset.\n",
    "\n",
    "The overall trend suggests that the App Store, specifically the section featuring free English apps, is predominantly filled with leisure-oriented applications (games, entertainment, photo and video, social networking, sports, music, etc.). In contrast, apps designed for practical purposes (education, shopping, utilities, productivity, lifestyle, etc.) are comparatively less common. It's important to note that while fun apps may dominate in quantity, it doesn't necessarily correlate with having the highest number of users, as demand may differ from the available offerings."
   ]
  },
  {
   "cell_type": "code",
   "execution_count": 31,
   "id": "a1fa5210",
   "metadata": {},
   "outputs": [
    {
     "name": "stdout",
     "output_type": "stream",
     "text": [
      "FAMILY : 18.898792733837304\n",
      "GAME : 9.725826469592688\n",
      "TOOLS : 8.462146000225657\n",
      "BUSINESS : 4.592124562789123\n",
      "LIFESTYLE : 3.9038700214374367\n",
      "PRODUCTIVITY : 3.8925871601038025\n",
      "FINANCE : 3.7007785174320205\n",
      "MEDICAL : 3.5315355974275078\n",
      "SPORTS : 3.396141261423897\n",
      "PERSONALIZATION : 3.317161232088458\n",
      "COMMUNICATION : 3.2381812027530184\n",
      "HEALTH_AND_FITNESS : 3.0802211440821394\n",
      "PHOTOGRAPHY : 2.944826808078529\n",
      "NEWS_AND_MAGAZINES : 2.798149610741284\n",
      "SOCIAL : 2.6627552747376737\n",
      "TRAVEL_AND_LOCAL : 2.335552296062281\n",
      "SHOPPING : 2.245289405393208\n",
      "BOOKS_AND_REFERENCE : 2.1437436533904997\n",
      "DATING : 1.8616721200496444\n",
      "VIDEO_PLAYERS : 1.7939749520478394\n",
      "MAPS_AND_NAVIGATION : 1.399074805370642\n",
      "FOOD_AND_DRINK : 1.241114746699763\n",
      "EDUCATION : 1.1621347173643235\n",
      "ENTERTAINMENT : 0.9590432133589079\n",
      "LIBRARIES_AND_DEMO : 0.9364774906916393\n",
      "AUTO_AND_VEHICLES : 0.9251946293580051\n",
      "HOUSE_AND_HOME : 0.8236488773552973\n",
      "WEATHER : 0.8010831546880289\n",
      "EVENTS : 0.7108202640189552\n",
      "PARENTING : 0.6544059573507841\n",
      "ART_AND_DESIGN : 0.6431230960171499\n",
      "COMICS : 0.6205573733498815\n",
      "BEAUTY : 0.5979916506826132\n"
     ]
    }
   ],
   "source": [
    " display_table(android_free, 1) #Category"
   ]
  },
  {
   "cell_type": "markdown",
   "id": "1212a33b",
   "metadata": {},
   "source": [
    "The scenario appears noticeably distinct on Google Play, where there's a notable absence of apps primarily focused on entertainment. Instead, a substantial number of apps seem to cater to practical purposes such as family, tools, business, lifestyle, and productivity. However, delving deeper into the data reveals that the family category, constituting nearly 19% of the apps, is primarily comprised of games designed for kids.\n",
    "\n"
   ]
  },
  {
   "cell_type": "markdown",
   "id": "39c58002",
   "metadata": {},
   "source": [
    "It seems that practical applications have a better representation on Google Play compared to App Store:"
   ]
  },
  {
   "cell_type": "code",
   "execution_count": 32,
   "id": "7ba32ebb",
   "metadata": {
    "scrolled": false
   },
   "outputs": [
    {
     "name": "stdout",
     "output_type": "stream",
     "text": [
      "Tools : 8.450863138892023\n",
      "Entertainment : 6.070179397495204\n",
      "Education : 5.348076272142616\n",
      "Business : 4.592124562789123\n",
      "Productivity : 3.8925871601038025\n",
      "Lifestyle : 3.8925871601038025\n",
      "Finance : 3.7007785174320205\n",
      "Medical : 3.5315355974275078\n",
      "Sports : 3.463838429425702\n",
      "Personalization : 3.317161232088458\n",
      "Communication : 3.2381812027530184\n",
      "Action : 3.102786866749408\n",
      "Health & Fitness : 3.0802211440821394\n",
      "Photography : 2.944826808078529\n",
      "News & Magazines : 2.798149610741284\n",
      "Social : 2.6627552747376737\n",
      "Travel & Local : 2.324269434728647\n",
      "Shopping : 2.245289405393208\n",
      "Books & Reference : 2.1437436533904997\n",
      "Simulation : 2.042197901387792\n",
      "Dating : 1.8616721200496444\n",
      "Arcade : 1.8503892587160102\n",
      "Video Players & Editors : 1.771409229380571\n",
      "Casual : 1.7601263680469368\n",
      "Maps & Navigation : 1.399074805370642\n",
      "Food & Drink : 1.241114746699763\n",
      "Puzzle : 1.128286133363421\n",
      "Racing : 0.9928917973598104\n",
      "Role Playing : 0.9364774906916393\n",
      "Libraries & Demo : 0.9364774906916393\n",
      "Auto & Vehicles : 0.9251946293580051\n",
      "Strategy : 0.9026289066907368\n",
      "House & Home : 0.8236488773552973\n",
      "Weather : 0.8010831546880289\n",
      "Events : 0.7108202640189552\n",
      "Adventure : 0.6769716800180525\n",
      "Comics : 0.6092745120162473\n",
      "Beauty : 0.5979916506826132\n",
      "Art & Design : 0.5979916506826132\n",
      "Parenting : 0.4964458986799052\n",
      "Card : 0.4513144533453684\n",
      "Casino : 0.42874873067809993\n",
      "Trivia : 0.4174658693444658\n",
      "Educational;Education : 0.3949001466771973\n",
      "Board : 0.38361728534356315\n",
      "Educational : 0.37233442400992894\n",
      "Education;Education : 0.33848584000902626\n",
      "Word : 0.25950581067358686\n",
      "Casual;Pretend Play : 0.2369400880063184\n",
      "Music : 0.20309150400541578\n",
      "Racing;Action & Adventure : 0.16924292000451313\n",
      "Puzzle;Brain Games : 0.16924292000451313\n",
      "Entertainment;Music & Video : 0.16924292000451313\n",
      "Casual;Brain Games : 0.1353943360036105\n",
      "Casual;Action & Adventure : 0.1353943360036105\n",
      "Arcade;Action & Adventure : 0.1241114746699763\n",
      "Action;Action & Adventure : 0.10154575200270789\n",
      "Educational;Pretend Play : 0.09026289066907367\n",
      "Simulation;Action & Adventure : 0.07898002933543948\n",
      "Parenting;Education : 0.07898002933543948\n",
      "Entertainment;Brain Games : 0.07898002933543948\n",
      "Board;Brain Games : 0.07898002933543948\n",
      "Parenting;Music & Video : 0.06769716800180525\n",
      "Educational;Brain Games : 0.06769716800180525\n",
      "Casual;Creativity : 0.06769716800180525\n",
      "Art & Design;Creativity : 0.06769716800180525\n",
      "Education;Pretend Play : 0.05641430666817105\n",
      "Role Playing;Pretend Play : 0.045131445334536835\n",
      "Education;Creativity : 0.045131445334536835\n",
      "Role Playing;Action & Adventure : 0.033848584000902626\n",
      "Puzzle;Action & Adventure : 0.033848584000902626\n",
      "Entertainment;Creativity : 0.033848584000902626\n",
      "Entertainment;Action & Adventure : 0.033848584000902626\n",
      "Educational;Creativity : 0.033848584000902626\n",
      "Educational;Action & Adventure : 0.033848584000902626\n",
      "Education;Music & Video : 0.033848584000902626\n",
      "Education;Brain Games : 0.033848584000902626\n",
      "Education;Action & Adventure : 0.033848584000902626\n",
      "Adventure;Action & Adventure : 0.033848584000902626\n",
      "Video Players & Editors;Music & Video : 0.022565722667268417\n",
      "Sports;Action & Adventure : 0.022565722667268417\n",
      "Simulation;Pretend Play : 0.022565722667268417\n",
      "Puzzle;Creativity : 0.022565722667268417\n",
      "Music;Music & Video : 0.022565722667268417\n",
      "Entertainment;Pretend Play : 0.022565722667268417\n",
      "Casual;Education : 0.022565722667268417\n",
      "Board;Action & Adventure : 0.022565722667268417\n",
      "Video Players & Editors;Creativity : 0.011282861333634209\n",
      "Trivia;Education : 0.011282861333634209\n",
      "Travel & Local;Action & Adventure : 0.011282861333634209\n",
      "Tools;Education : 0.011282861333634209\n",
      "Strategy;Education : 0.011282861333634209\n",
      "Strategy;Creativity : 0.011282861333634209\n",
      "Strategy;Action & Adventure : 0.011282861333634209\n",
      "Simulation;Education : 0.011282861333634209\n",
      "Role Playing;Brain Games : 0.011282861333634209\n",
      "Racing;Pretend Play : 0.011282861333634209\n",
      "Puzzle;Education : 0.011282861333634209\n",
      "Parenting;Brain Games : 0.011282861333634209\n",
      "Music & Audio;Music & Video : 0.011282861333634209\n",
      "Lifestyle;Pretend Play : 0.011282861333634209\n",
      "Lifestyle;Education : 0.011282861333634209\n",
      "Health & Fitness;Education : 0.011282861333634209\n",
      "Health & Fitness;Action & Adventure : 0.011282861333634209\n",
      "Entertainment;Education : 0.011282861333634209\n",
      "Communication;Creativity : 0.011282861333634209\n",
      "Comics;Creativity : 0.011282861333634209\n",
      "Casual;Music & Video : 0.011282861333634209\n",
      "Card;Action & Adventure : 0.011282861333634209\n",
      "Books & Reference;Education : 0.011282861333634209\n",
      "Art & Design;Pretend Play : 0.011282861333634209\n",
      "Art & Design;Action & Adventure : 0.011282861333634209\n",
      "Arcade;Pretend Play : 0.011282861333634209\n",
      "Adventure;Education : 0.011282861333634209\n"
     ]
    }
   ],
   "source": [
    "display_table(android_free, 9) #Genres"
   ]
  },
  {
   "cell_type": "markdown",
   "id": "6c04a198",
   "metadata": {},
   "source": [
    "Based on the Genres and Category columns, we can notice is that the Genres column has more categories. We're only looking for the bigger picture at the moment, so we'll only work with the Category column moving forward.\n",
    "\n",
    "Up to this point, we can say that the App Store is dominated by apps designed for fun, while Google Play shows a more balanced landscape of both practical and for-fun apps. \n"
   ]
  },
  {
   "cell_type": "markdown",
   "id": "49c1eaa8",
   "metadata": {},
   "source": [
    "### Most Popular Apps by Genre on the App Store\n",
    "In order to find out what genres are the most popular, we should calculate the average number of installs for each app genre. For the Google Store dataset, we can see this information in the `Install` column, but the Apple dataset is missiong this information. \n",
    "The follow steps are:\n",
    "* Isolating the apps of each genre\n",
    "* Add up the user ratings for the apps of that genre\n",
    "* Divide the sum by the number of apps belonging to that genre \n",
    "* Sort to illustrate the most popular genres."
   ]
  },
  {
   "cell_type": "code",
   "execution_count": 33,
   "id": "74e30092",
   "metadata": {},
   "outputs": [
    {
     "name": "stdout",
     "output_type": "stream",
     "text": [
      "Navigation: 86090.33333333333\n",
      "Reference: 74942.11111111111\n",
      "Social Networking: 71548.34905660378\n",
      "Music: 57326.530303030304\n",
      "Weather: 52279.892857142855\n",
      "Book: 39758.5\n",
      "Food & Drink: 33333.92307692308\n",
      "Finance: 31467.944444444445\n",
      "Photo & Video: 28441.54375\n",
      "Travel: 28243.8\n",
      "Shopping: 26919.690476190477\n",
      "Health & Fitness: 23298.015384615384\n",
      "Sports: 23008.898550724636\n",
      "Games: 22788.6696905016\n",
      "News: 21248.023255813954\n",
      "Productivity: 21028.410714285714\n",
      "Utilities: 18684.456790123455\n",
      "Lifestyle: 16485.764705882353\n",
      "Entertainment: 14029.830708661417\n",
      "Business: 7491.117647058823\n",
      "Education: 7003.983050847458\n",
      "Catalogs: 4004.0\n",
      "Medical: 612.0\n"
     ]
    }
   ],
   "source": [
    "genres_ios = freq_table(ios_free, 11)\n",
    "avg_installs_list_apple = []  # Creating a list to sort the average user ratings\n",
    "\n",
    "for genre in genres_ios:\n",
    "    total = 0\n",
    "    len_genre = 0\n",
    "    for app in ios_free:\n",
    "        genre_app = app[11]\n",
    "        if genre_app == genre:\n",
    "            n_ratings = float(app[5])\n",
    "            total += n_ratings\n",
    "            len_genre += 1\n",
    "    \n",
    "    avg_user_rating = total / len_genre\n",
    "\n",
    "    avg_installs_list_apple.append((genre, avg_user_rating))\n",
    "\n",
    "# Sort the list of tuples based on average user ratings in descending order\n",
    "sorted_avg_installs = sorted(avg_installs_list_apple, key=lambda x: x[1], reverse=True)\n",
    "\n",
    "# Print the sorted result\n",
    "for genre, avg_user_rating in sorted_avg_installs:\n",
    "    print(f'{genre}: {avg_user_rating}')\n",
    "        "
   ]
  },
  {
   "cell_type": "markdown",
   "id": "e06a69ce",
   "metadata": {},
   "source": [
    "We can see that the most popular apps on the Apple Store belong to `Navigation`, followed by `Reference` and `Social Networking`. \n",
    "\n",
    "On average, navigation apps have the highest number of user reviews, but this figure is heavily influenced by Waze and Google Maps, which have close to half a million user reviews together:"
   ]
  },
  {
   "cell_type": "code",
   "execution_count": 34,
   "id": "21e51f5f",
   "metadata": {
    "scrolled": true
   },
   "outputs": [
    {
     "name": "stdout",
     "output_type": "stream",
     "text": [
      "Waze - GPS Navigation, Maps & Real-time Traffic : 345046\n",
      "Google Maps - Navigation & Transit : 154911\n",
      "Geocaching® : 12811\n",
      "CoPilot GPS – Car Navigation & Offline Maps : 3582\n",
      "ImmobilienScout24: Real Estate Search in Germany : 187\n",
      "Railway Route Search : 5\n"
     ]
    }
   ],
   "source": [
    "for app in ios_free:\n",
    "    if app[11] == 'Navigation':\n",
    "        print(app[1], ':', app[5]) # print name and number of ratings\n"
   ]
  },
  {
   "cell_type": "markdown",
   "id": "91035a7d",
   "metadata": {},
   "source": [
    "The similar pattern we can see in the Social Networking genre , where the average number is heavily influenced by a few ginats like Facebook, Skype, Messenger, and etc. "
   ]
  },
  {
   "cell_type": "code",
   "execution_count": 35,
   "id": "1b32e565",
   "metadata": {},
   "outputs": [
    {
     "name": "stdout",
     "output_type": "stream",
     "text": [
      "Facebook : 2974676\n",
      "Pinterest : 1061624\n",
      "Skype for iPhone : 373519\n",
      "Messenger : 351466\n",
      "Tumblr : 334293\n",
      "WhatsApp Messenger : 287589\n",
      "Kik : 260965\n",
      "ooVoo – Free Video Call, Text and Voice : 177501\n",
      "TextNow - Unlimited Text + Calls : 164963\n",
      "Viber Messenger – Text & Call : 164249\n",
      "Followers - Social Analytics For Instagram : 112778\n",
      "MeetMe - Chat and Meet New People : 97072\n",
      "We Heart It - Fashion, wallpapers, quotes, tattoos : 90414\n",
      "InsTrack for Instagram - Analytics Plus More : 85535\n",
      "Tango - Free Video Call, Voice and Chat : 75412\n",
      "LinkedIn : 71856\n",
      "Match™ - #1 Dating App. : 60659\n",
      "Skype for iPad : 60163\n",
      "POF - Best Dating App for Conversations : 52642\n",
      "Timehop : 49510\n",
      "Find My Family, Friends & iPhone - Life360 Locator : 43877\n",
      "Whisper - Share, Express, Meet : 39819\n",
      "Hangouts : 36404\n",
      "LINE PLAY - Your Avatar World : 34677\n",
      "WeChat : 34584\n",
      "Badoo - Meet New People, Chat, Socialize. : 34428\n",
      "Followers + for Instagram - Follower Analytics : 28633\n",
      "GroupMe : 28260\n",
      "Marco Polo Video Walkie Talkie : 27662\n",
      "Miitomo : 23965\n",
      "SimSimi : 23530\n",
      "Grindr - Gay and same sex guys chat, meet and date : 23201\n",
      "Wishbone - Compare Anything : 20649\n",
      "imo video calls and chat : 18841\n",
      "After School - Funny Anonymous School News : 18482\n",
      "Quick Reposter - Repost, Regram and Reshare Photos : 17694\n",
      "Weibo HD : 16772\n",
      "Repost for Instagram : 15185\n",
      "Live.me – Live Video Chat & Make Friends Nearby : 14724\n",
      "Nextdoor : 14402\n",
      "Followers Analytics for Instagram - InstaReport : 13914\n",
      "YouNow: Live Stream Video Chat : 12079\n",
      "FollowMeter for Instagram - Followers Tracking : 11976\n",
      "LINE : 11437\n",
      "eHarmony™ Dating App - Meet Singles : 11124\n",
      "Discord - Chat for Gamers : 9152\n",
      "QQ : 9109\n",
      "Telegram Messenger : 7573\n",
      "Weibo : 7265\n",
      "Periscope - Live Video Streaming Around the World : 6062\n",
      "Chat for Whatsapp - iPad Version : 5060\n",
      "QQ HD : 5058\n",
      "Followers Analysis Tool For Instagram App Free : 4253\n",
      "live.ly - live video streaming : 4145\n",
      "Houseparty - Group Video Chat : 3991\n",
      "SOMA Messenger : 3232\n",
      "Monkey : 3060\n",
      "Down To Lunch : 2535\n",
      "Flinch - Video Chat Staring Contest : 2134\n",
      "Highrise - Your Avatar Community : 2011\n",
      "LOVOO - Dating Chat : 1985\n",
      "PlayStation®Messages : 1918\n",
      "BOO! - Video chat camera with filters & stickers : 1805\n",
      "Qzone : 1649\n",
      "Chatous - Chat with new people : 1609\n",
      "Kiwi - Q&A : 1538\n",
      "GhostCodes - a discovery app for Snapchat : 1313\n",
      "Jodel : 1193\n",
      "FireChat : 1037\n",
      "Google Duo - simple video calling : 1033\n",
      "Fiesta by Tango - Chat & Meet New People : 885\n",
      "Google Allo — smart messaging : 862\n",
      "Peach — share vividly : 727\n",
      "Hey! VINA - Where Women Meet New Friends : 719\n",
      "Battlefield™ Companion : 689\n",
      "All Devices for WhatsApp - Messenger for iPad : 682\n",
      "Chat for Pokemon Go - GoChat : 500\n",
      "IAmNaughty – Dating App to Meet New People Online : 463\n",
      "Qzone HD : 458\n",
      "Zenly - Locate your friends in realtime : 427\n",
      "League of Legends Friends : 420\n",
      "豆瓣 : 407\n",
      "Candid - Speak Your Mind Freely : 398\n",
      "知乎 : 397\n",
      "Selfeo : 366\n",
      "Fake-A-Location Free ™ : 354\n",
      "Popcorn Buzz - Free Group Calls : 281\n",
      "Fam — Group video calling for iMessage : 279\n",
      "QQ International : 274\n",
      "Ameba : 269\n",
      "SoundCloud Pulse: for creators : 240\n",
      "Tantan : 235\n",
      "Cougar Dating & Life Style App for Mature Women : 213\n",
      "Rawr Messenger - Dab your chat : 180\n",
      "WhenToPost: Best Time to Post Photos for Instagram : 158\n",
      "Inke—Broadcast an amazing life : 147\n",
      "Mustknow - anonymous video Q&A : 53\n",
      "CTFxCmoji : 39\n",
      "Lobi : 36\n",
      "Chain: Collaborate On MyVideo Story/Group Video : 35\n",
      "botman - Real time video chat : 7\n",
      "BestieBox : 0\n",
      "MATCH ON LINE chat : 0\n",
      "niconico ch : 0\n",
      "LINE BLOG : 0\n",
      "bit-tube - Live Stream Video Chat : 0\n"
     ]
    }
   ],
   "source": [
    "for app in ios_free:\n",
    "    if app[11] == 'Social Networking':\n",
    "        print(app[1], ':', app[5]) # print name and number of ratings"
   ]
  },
  {
   "cell_type": "markdown",
   "id": "0cbc87b9",
   "metadata": {},
   "source": [
    "Exploring opportunities in the Health and Fitness domain, we're considering the development of an app featuring on-demand training videos, nutritional guidance, and a social hub. This venture could involve collaboration with a fitness influencer to enhance its appeal and effectiveness."
   ]
  },
  {
   "cell_type": "code",
   "execution_count": 36,
   "id": "db3bf3e0",
   "metadata": {},
   "outputs": [
    {
     "name": "stdout",
     "output_type": "stream",
     "text": [
      "Calorie Counter & Diet Tracker by MyFitnessPal : 507706\n",
      "Lose It! – Weight Loss Program and Calorie Counter : 373835\n",
      "Weight Watchers : 136833\n",
      "Sleep Cycle alarm clock : 104539\n",
      "Fitbit : 90496\n",
      "Period Tracker Lite : 53620\n",
      "Nike+ Training Club - Workouts & Fitness Plans : 33969\n",
      "Plant Nanny - Water Reminder with Cute Plants : 27421\n",
      "Sworkit - Custom Workouts for Exercise & Fitness : 16819\n",
      "Clue Period Tracker: Period & Ovulation Tracker : 13436\n",
      "Headspace : 12819\n",
      "Fooducate - Lose Weight, Eat Healthy,Get Motivated : 11875\n",
      "Runtastic Running, Jogging and Walking Tracker : 10298\n",
      "WebMD for iPad : 9142\n",
      "8fit - Workouts, meal plans and personal trainer : 8730\n",
      "Garmin Connect™ Mobile : 8341\n",
      "Record by Under Armour, connects with UA HealthBox : 7754\n",
      "Fitstar Personal Trainer : 7496\n",
      "My Cycles Period and Ovulation Tracker : 7469\n",
      "Seven - 7 Minute Workout Training Challenge : 6808\n",
      "RUNNING for weight loss: workout & meal plans : 6407\n",
      "Lifesum – Inspiring healthy lifestyle app : 5795\n",
      "Waterlogged - Daily Hydration Tracker : 5000\n",
      "J&J Official 7 Minute Workout : 4861\n",
      "Fitbod Workout Log: Strength Lifting Bodybuilding : 4668\n",
      "Runtastic Six Pack Abs Workout & Core Trainer : 4283\n",
      "Sweat: Kayla Itsines' Bikini Body Fitness Workouts : 3788\n",
      "Smart Alarm Clock : sleep cycle & snoring recorder : 3779\n",
      "My Challenge Tracker : 3682\n",
      "Charity Miles: Walking & Running Distance Tracker : 3115\n",
      "Ab & Core Sworkit - Free Workout Trainer : 2901\n",
      "Simple Habit : 2494\n",
      "Asana Rebel - Yoga Inspired Fitness : 2459\n",
      "Life Cycle - Track Your Time Automatically : 1760\n",
      "Freeletics Bodyweight - Workouts and Training : 1722\n",
      "Runtastic Results: Workout & Bodyweight Training : 1718\n",
      "My Water Balance: Daily Drink Tracker & Reminder : 1601\n",
      "Butt Sworkit - Free Workout Trainer to tone & lift : 960\n",
      "My Score Plus Weight Loss, Food & Exercise Tracker : 467\n",
      "Sleep Meister - Sleep Cycle Alarm Lite : 445\n",
      "Walk for a Dog : 412\n",
      "Quick Fit - 7 Minute Workout, Abs, and Yoga : 407\n",
      "Fit Girls Guide : 397\n",
      "Walking for Weight Loss: training plans, GPS, tips : 397\n",
      "Zen : 298\n",
      "Model My Diet - Women - Weight Loss Motivation : 236\n",
      "Runtastic Butt Workout & Booty Trainer Plans : 222\n",
      "Dot - A Period & Fertility Tracker : 142\n",
      "YAZIO – Calorie Counter & Nutrition Tracker : 115\n",
      "SmartFit - Wristband : 105\n",
      "Dr. Oz : 99\n",
      "Crane Connect : 94\n",
      "Morning Routine : Daily Habit Tracker : 40\n",
      "Wellbeyond Meditation for Kids : 36\n",
      "SenseSleep - Train Your Brain To Sleep Better : 22\n",
      "Snail Sleep-Dream Talk Recording : 19\n",
      "ameli, l'Assurance Maladie : 8\n",
      "VIBO RealMassager : 6\n",
      "FizzUp – Online Fitness Trainer : 5\n",
      "2Face Fitpack - Dein Trainingsprogramm mit persönlichem Ernährungsplan, Kalorienrechner und Trainingsplan : 0\n",
      "GYMONDO – Fitness Training für Zuhause : 0\n",
      "Superdrug : 0\n",
      "airweave sleep analysis : 0\n",
      "Sonia Tlev : 0\n",
      "Intuition Guidances : 0\n"
     ]
    }
   ],
   "source": [
    "for app in ios_free:\n",
    "    if app[11] == 'Health & Fitness':\n",
    "        print(app[1], ':', app[5]) # print name and number of ratings"
   ]
  },
  {
   "cell_type": "code",
   "execution_count": null,
   "id": "ded152af",
   "metadata": {},
   "outputs": [],
   "source": []
  },
  {
   "cell_type": "markdown",
   "id": "5035da0e",
   "metadata": {},
   "source": [
    "### Most Popular Apps by Genre on the Google Play\n",
    "The dataset from Google Play offers information on the number of installs, but the figures lack precision and fail to provide a clear representation of genre popularity."
   ]
  },
  {
   "cell_type": "code",
   "execution_count": 37,
   "id": "aa8bec6a",
   "metadata": {},
   "outputs": [
    {
     "name": "stdout",
     "output_type": "stream",
     "text": [
      "1,000,000+ : 15.728308699086089\n",
      "100,000+ : 11.55365000564143\n",
      "10,000,000+ : 10.549475346947986\n",
      "10,000+ : 10.199706645605326\n",
      "1,000+ : 8.394448832223853\n",
      "100+ : 6.916393997517771\n",
      "5,000,000+ : 6.826131106848697\n",
      "500,000+ : 5.562450637481666\n",
      "50,000+ : 4.772650344127271\n",
      "5,000+ : 4.513144533453684\n",
      "10+ : 3.542818458761142\n",
      "500+ : 3.2494640640866526\n",
      "50,000,000+ : 2.3017037120613786\n",
      "100,000,000+ : 2.1324607920568655\n",
      "50+ : 1.9180864267178157\n",
      "5+ : 0.7898002933543946\n",
      "1+ : 0.5077287600135394\n",
      "500,000,000+ : 0.270788672007221\n",
      "1,000,000,000+ : 0.2256572266726842\n",
      "0+ : 0.045131445334536835\n"
     ]
    }
   ],
   "source": [
    "display_table(android_free, 5) #The install columns"
   ]
  },
  {
   "cell_type": "code",
   "execution_count": 38,
   "id": "d1a30b4b",
   "metadata": {},
   "outputs": [
    {
     "name": "stdout",
     "output_type": "stream",
     "text": [
      "COMMUNICATION: 38456119.167247385\n",
      "VIDEO_PLAYERS: 24727872.452830188\n",
      "SOCIAL: 23253652.127118643\n",
      "PHOTOGRAPHY: 17840110.40229885\n",
      "PRODUCTIVITY: 16787331.344927534\n",
      "GAME: 15588015.603248259\n",
      "TRAVEL_AND_LOCAL: 13984077.710144928\n",
      "ENTERTAINMENT: 11640705.88235294\n",
      "TOOLS: 10801391.298666667\n",
      "NEWS_AND_MAGAZINES: 9549178.467741935\n",
      "BOOKS_AND_REFERENCE: 8767811.894736841\n",
      "SHOPPING: 7036877.311557789\n",
      "PERSONALIZATION: 5201482.6122448975\n",
      "WEATHER: 5074486.197183099\n",
      "HEALTH_AND_FITNESS: 4188821.9853479853\n",
      "MAPS_AND_NAVIGATION: 4056941.7741935486\n",
      "FAMILY: 3697848.1731343283\n",
      "SPORTS: 3638640.1428571427\n",
      "ART_AND_DESIGN: 1986335.0877192982\n",
      "FOOD_AND_DRINK: 1924897.7363636363\n",
      "EDUCATION: 1833495.145631068\n",
      "BUSINESS: 1712290.1474201474\n",
      "LIFESTYLE: 1437816.2687861272\n",
      "FINANCE: 1387692.475609756\n",
      "HOUSE_AND_HOME: 1331540.5616438356\n",
      "DATING: 854028.8303030303\n",
      "COMICS: 817657.2727272727\n",
      "AUTO_AND_VEHICLES: 647317.8170731707\n",
      "LIBRARIES_AND_DEMO: 638503.734939759\n",
      "PARENTING: 542603.6206896552\n",
      "BEAUTY: 513151.88679245283\n",
      "EVENTS: 253542.22222222222\n",
      "MEDICAL: 120550.61980830671\n"
     ]
    }
   ],
   "source": [
    "categories_android = freq_table(android_free, 1)\n",
    "avg_installs_list = []  # Cretaing list to sort the number of installs\n",
    "\n",
    "for category in categories_android:\n",
    "    total = 0\n",
    "    len_category = 0\n",
    "    for app in android_free:\n",
    "        category_app = app[1]\n",
    "        if category_app == category:\n",
    "            n_installs = app[5]\n",
    "            n_installs = n_installs.replace('+','')\n",
    "            n_installs = n_installs.replace(',','')\n",
    "            total += float(n_installs)\n",
    "            len_category += 1\n",
    "    \n",
    "    avg_installs = total / len_category\n",
    "    avg_installs_list.append((category, avg_installs))\n",
    "    \n",
    "# Sort the list of tuples based on average installs in descending order\n",
    "sorted_avg_installs = sorted(avg_installs_list, key=lambda x: x[1], reverse=True)\n",
    "\n",
    "# Print the sorted result\n",
    "for category, avg_installs in sorted_avg_installs:\n",
    "     print(f'{category}: {avg_installs}')\n",
    "\n",
    "            \n"
   ]
  },
  {
   "cell_type": "markdown",
   "id": "9169451f",
   "metadata": {},
   "source": [
    "On average, as we can see, communication apps has the most installs: 38456119. However, there are relatively a few apps in communication, some of them like WhatsApp, Messenger, Skype, Google Chrome, Gmain, and Hangouts have more than a billion installs. "
   ]
  },
  {
   "cell_type": "code",
   "execution_count": 39,
   "id": "ec4f329a",
   "metadata": {},
   "outputs": [
    {
     "name": "stdout",
     "output_type": "stream",
     "text": [
      "WhatsApp Messenger : 1,000,000,000+\n",
      "imo beta free calls and text : 100,000,000+\n",
      "Android Messages : 100,000,000+\n",
      "Google Duo - High Quality Video Calls : 500,000,000+\n",
      "Messenger – Text and Video Chat for Free : 1,000,000,000+\n",
      "imo free video calls and chat : 500,000,000+\n",
      "Skype - free IM & video calls : 1,000,000,000+\n",
      "Who : 100,000,000+\n",
      "GO SMS Pro - Messenger, Free Themes, Emoji : 100,000,000+\n",
      "LINE: Free Calls & Messages : 500,000,000+\n",
      "Google Chrome: Fast & Secure : 1,000,000,000+\n",
      "Firefox Browser fast & private : 100,000,000+\n",
      "UC Browser - Fast Download Private & Secure : 500,000,000+\n",
      "Gmail : 1,000,000,000+\n",
      "Hangouts : 1,000,000,000+\n",
      "Messenger Lite: Free Calls & Messages : 100,000,000+\n",
      "Kik : 100,000,000+\n",
      "KakaoTalk: Free Calls & Text : 100,000,000+\n",
      "Opera Mini - fast web browser : 100,000,000+\n",
      "Opera Browser: Fast and Secure : 100,000,000+\n",
      "Telegram : 100,000,000+\n",
      "Truecaller: Caller ID, SMS spam blocking & Dialer : 100,000,000+\n",
      "UC Browser Mini -Tiny Fast Private & Secure : 100,000,000+\n",
      "Viber Messenger : 500,000,000+\n",
      "WeChat : 100,000,000+\n",
      "Yahoo Mail – Stay Organized : 100,000,000+\n",
      "BBM - Free Calls & Messages : 100,000,000+\n"
     ]
    }
   ],
   "source": [
    "for app in android_free:\n",
    "    if app[1] == 'COMMUNICATION' and (app[5] == '1,000,000,000+'\n",
    "                                      or app[5] == '500,000,000+'\n",
    "                                      or app[5] == '100,000,000+'):\n",
    "        print(app[0], ':', app[5])"
   ]
  },
  {
   "cell_type": "markdown",
   "id": "c7b438b0",
   "metadata": {},
   "source": [
    "Communication and game genres might seem more popular, but these niches seem to be taken by a few giants who are hard to compete against. \n",
    "The Health and Fitness genre looks fairy popular, with average number of installs of 4188821. Out goal is to recommend an app genre that shows potential, so we can explore this genre in more depth.\n",
    "\n",
    " Some of the apps in the health and finess genre:"
   ]
  },
  {
   "cell_type": "code",
   "execution_count": 40,
   "id": "9ba05772",
   "metadata": {},
   "outputs": [
    {
     "name": "stdout",
     "output_type": "stream",
     "text": [
      "Step Counter - Calorie Counter :  500,000+\n",
      "Lose Belly Fat in 30 Days - Flat Stomach :  5,000,000+\n",
      "Pedometer - Step Counter Free & Calorie Burner :  1,000,000+\n",
      "Six Pack in 30 Days - Abs Workout :  10,000,000+\n",
      "Lose Weight in 30 Days :  10,000,000+\n",
      "Pedometer :  10,000,000+\n",
      "LG Health :  10,000,000+\n",
      "Step Counter - Pedometer Free & Calorie Counter :  10,000,000+\n",
      "Pedometer, Step Counter & Weight Loss Tracker App :  10,000,000+\n",
      "Sportractive GPS Running Cycling Distance Tracker :  1,000,000+\n",
      "30 Day Fitness Challenge - Workout at Home :  10,000,000+\n",
      "Home Workout for Men - Bodybuilding :  1,000,000+\n",
      "Fat Burning Workout - Home Weight lose :  100,000+\n",
      "Buttocks and Abdomen :  500,000+\n",
      "Walking for Weight Loss - Walk Tracker :  100,000+\n",
      "Running & Jogging :  500,000+\n",
      "Sleep Sounds :  1,000,000+\n",
      "Fitbit :  10,000,000+\n",
      "Lose Belly Fat-Home Abs Fitness Workout :  50,000+\n",
      "Cycling - Bike Tracker :  500,000+\n",
      "Abs Training-Burn belly fat :  100,000+\n",
      "Calorie Counter - EasyFit free :  1,000,000+\n",
      "Aunjai i lert u :  500,000+\n",
      "Garmin Connect™ :  10,000,000+\n",
      "BetterMe: Weight Loss Workouts :  5,000,000+\n",
      "Bike Computer - GPS Cycling Tracker :  1,000,000+\n",
      "Six Packs for Man–Body Building with No Equipment :  100,000+\n",
      "Running Distance Tracker + :  1,000,000+\n",
      "The TK-App - everything under control :  100,000+\n",
      "Runkeeper - GPS Track Run Walk :  10,000,000+\n",
      "Walking: Pedometer diet :  1,000,000+\n",
      "Recipes for hair and face tried :  500,000+\n",
      "Abs Workout - 30 Days Fitness App for Six Pack Abs :  100,000+\n",
      "8fit Workouts & Meal Planner :  10,000,000+\n",
      "Keep Trainer - Workout Trainer & Fitness Coach :  1,000,000+\n",
      "Couch to 10K Running Trainer :  500,000+\n",
      "PumpUp — Fitness Community :  1,000,000+\n",
      "Home workouts - fat burning, abs, legs, arms,chest :  1,000,000+\n",
      "Running Weight Loss Walking Jogging Hiking FITAPP :  1,000,000+\n",
      "Strava Training: Track Running, Cycling & Swimming :  10,000,000+\n",
      "Workout Trainer: fitness coach :  10,000,000+\n",
      "Fabulous: Motivate Me! Meditate, Relax, Sleep :  5,000,000+\n",
      "StrongLifts 5x5 Workout Gym Log & Personal Trainer :  1,000,000+\n",
      "Run with Map My Run :  5,000,000+\n",
      "7 Minute Workout :  10,000,000+\n",
      "Workout Tracker & Gym Trainer - Fitness Log Book :  500,000+\n",
      "Freeletics: Personal Trainer & Fitness Workouts :  10,000,000+\n",
      "Fitbit Coach :  1,000,000+\n",
      "JEFIT Workout Tracker, Weight Lifting, Gym Log App :  5,000,000+\n",
      "Map My Ride GPS Cycling Riding :  1,000,000+\n",
      "Daily Workouts - Exercise Fitness Routine Trainer :  10,000,000+\n",
      "Google Fit - Fitness Tracking :  10,000,000+\n",
      "Weight Loss Running by Verv :  1,000,000+\n",
      "Sworkit: Workouts & Fitness Plans :  5,000,000+\n",
      "Map My Fitness Workout Trainer :  1,000,000+\n",
      "Sports Tracker Running Cycling :  5,000,000+\n",
      "Seven - 7 Minute Workout Training Challenge :  1,000,000+\n",
      "Daily Yoga - Yoga Fitness Plans :  5,000,000+\n",
      "Relax Meditation: Sleep with Sleep Sounds :  1,000,000+\n",
      "Free Meditation - Take a Break :  100,000+\n",
      "Meditate OM :  1,000,000+\n",
      "Yoga - Track Yoga :  500,000+\n",
      "My Chakra Meditation :  500,000+\n",
      "Relax with Andrew Johnson Lite :  100,000+\n",
      "Meditation Music - Relax, Yoga :  1,000,000+\n",
      "Down Dog: Great Yoga Anywhere :  500,000+\n",
      "21-Day Meditation Experience :  100,000+\n",
      "My Chakra Meditation 2 :  100,000+\n",
      "Simply Yoga - Fitness Trainer for Workouts & Poses :  1,000,000+\n",
      "Relax Melodies: Sleep Sounds :  5,000,000+\n",
      "Simple Habit Meditation :  500,000+\n",
      "Headspace: Meditation & Mindfulness :  10,000,000+\n",
      "Yoga Studio: Mind & Body :  100,000+\n",
      "Pregnancy & Baby Tracker :  1,000,000+\n",
      "My Cycles Period and Ovulation :  1,000,000+\n",
      "I’m Expecting - Pregnancy App :  1,000,000+\n",
      "The Bump Pregnancy Tracker :  1,000,000+\n",
      "My Days - Ovulation Calendar & Period Tracker ™ :  5,000,000+\n",
      "Best Ovulation Tracker Fertility Calendar App Glow :  1,000,000+\n",
      "Eve Period Tracker - Love, Sex & Relationships App :  1,000,000+\n",
      "Fertility Friend Ovulation App :  1,000,000+\n",
      "Pregnancy Tracker :  500,000+\n",
      "Period Tracker :  10,000,000+\n",
      "Spot On Period, Birth Control, & Cycle Tracker :  500,000+\n",
      "OvuView: Ovulation and Fertility :  1,000,000+\n",
      "Period Tracker - Period Calendar Ovulation Tracker :  100,000,000+\n",
      "Period Tracker Clue: Period and Ovulation Tracker :  10,000,000+\n",
      "Calorie Counter - MyFitnessPal :  50,000,000+\n",
      "WomanLog Calendar :  5,000,000+\n",
      "Geocaching® :  5,000,000+\n",
      "Map My Hike GPS Hiking :  500,000+\n",
      "ViewRanger - Hike, Ride or Walk :  1,000,000+\n",
      "Runtastic Mountain Bike GPS Tracker :  1,000,000+\n",
      "AllTrails: Hiking, Running & Mountain Bike Trails :  1,000,000+\n",
      "Water Drink Reminder :  10,000,000+\n",
      "Zombies, Run! 5k Training (Free) :  50,000+\n",
      "Tracks :  50,000+\n",
      "YAZIO Calorie Counter, Nutrition Diary & Diet Plan :  5,000,000+\n",
      "Technutri - calorie counter, diet and carb tracker :  5,000,000+\n",
      "Couch to 5K by RunDouble :  1,000,000+\n",
      "Fooducate Healthy Weight Loss & Calorie Counter :  1,000,000+\n",
      "Weight Watchers Mobile :  5,000,000+\n",
      "Walk with Map My Walk :  5,000,000+\n",
      "My Diet Coach - Weight Loss Motivation & Tracker :  10,000,000+\n",
      "Endomondo - Running & Walking :  10,000,000+\n",
      "Nike+ Run Club :  10,000,000+\n",
      "Lose It! - Calorie Counter :  10,000,000+\n",
      "Runtastic Running App & Mile Tracker :  10,000,000+\n",
      "Calorie Counter - MyNetDiary :  1,000,000+\n",
      "10 Best Foods for You :  500,000+\n",
      "MyPlate Calorie Tracker :  1,000,000+\n",
      "My Diet Diary Calorie Counter :  1,000,000+\n",
      "Calorie Counter - Macros :  100,000+\n",
      "Weight Loss Tracker - RecStyle :  1,000,000+\n",
      "Lark - 24/7 Health Coach :  100,000+\n",
      "MealLogger-Photo Food Journal :  50,000+\n",
      "Health and Nutrition Guide :  500,000+\n",
      "Calorie Counter & Diet Tracker :  1,000,000+\n",
      "Food Calorie Calculator :  100,000+\n",
      "Monitor Your Weight :  5,000,000+\n",
      "Calorie Counter by FatSecret :  10,000,000+\n",
      "Eat Fit - Diet and Health Free :  100,000+\n",
      "Self Healing :  500,000+\n",
      "Happify :  100,000+\n",
      "Binaural Beats Therapy :  1,000,000+\n",
      "Pacifica - Stress & Anxiety :  500,000+\n",
      "Relaxing Sounds :  100,000+\n",
      "White Sound Pro :  500,000+\n",
      "Insight Timer - Free Meditation App :  1,000,000+\n",
      "Self-help Anxiety Management :  500,000+\n",
      "Brain Waves - Binaural Beats :  500,000+\n",
      "Prana Breath: Calm & Meditate :  1,000,000+\n",
      "7 Cups: Anxiety & Stress Chat :  500,000+\n",
      "Calm - Meditate, Sleep, Relax :  5,000,000+\n",
      "White Noise Lite :  1,000,000+\n",
      "Stop, Breathe & Think: Meditation & Mindfulness :  1,000,000+\n",
      "Oral-B App :  1,000,000+\n",
      "f.lux (preview, root-only) :  500,000+\n",
      "HPlus :  100,000+\n",
      "H Band 2.0 :  500,000+\n",
      "H-Connect :  5,000+\n",
      "H Band :  10,000+\n",
      "J - Style Pro :  10,000+\n",
      "K Health :  50,000+\n",
      "Vi Trainer :  5,000+\n",
      "30 Day Ab Challenge :  500,000+\n",
      "Ultimate Ab & Core Workouts :  1,000,000+\n",
      "Abs Workout - Burn Belly Fat with No Equipment :  10,000,000+\n",
      "6 Pack Promise - Ultimate Abs :  1,000,000+\n",
      "Abs, Core & Back Workout Challenge :  100,000+\n",
      "AB Mobile App :  100,000+\n",
      "Daily Ab Workout - Core & Abs Fitness Exercises :  10,000,000+\n",
      "Abs workout 7 minutes :  1,000,000+\n",
      "30 Day Ab Challenge FREE :  1,000,000+\n",
      "ABS Workout - Belly workout, 30 days AB :  100,000+\n",
      "7 minute abs workout - Daily Ab Workout :  100,000+\n",
      "5 Minute Ab Workouts :  50,000+\n",
      "30 Day AB Challenge - Lumowell :  10,000+\n",
      "Ab Workouts :  1,000,000+\n",
      "Ab Workouts - Ab Generator :  1,000+\n",
      "Abs workout - 21 Day Fitness Challenge :  1,000,000+\n",
      "Ladies' Ab Workout FREE :  1,000,000+\n",
      "30-Day Ab Challenge Tracker :  10,000+\n",
      "AF Hydro :  10,000+\n",
      "AF Nutrition - Integratori :  100+\n",
      "AH Connect (Adventist Health) :  1,000+\n",
      "be'ah :  10+\n",
      "We're Working Out - Al Kavadlo :  50,000+\n",
      "AQ Dentals :  10+\n",
      "Sleep as Android Gear Addon :  100,000+\n",
      "Sleep as Android Garmin Addon :  10,000+\n",
      "Samsung Health :  500,000,000+\n",
      "Runtastic Sleep Better: Sleep Cycle & Smart Alarm :  5,000,000+\n",
      "Twilight: Blue light filter :  5,000,000+\n",
      "MediBeat for AW - Android (1) :  500+\n",
      "Q7 SmartWatch :  10,000+\n",
      "AY Oakmont :  10+\n",
      "Cures A-Z :  100,000+\n",
      "BA Accesible :  1,000+\n",
      "Fitness Dance for Zum.ba Workout Exercise :  50,000+\n",
      "BD Provider App :  5,000+\n",
      "BF Scale Health Fitness Tool :  1,000+\n",
      "Women\"s Health Tips(Breast,Face,Body,weight lose) :  1,000,000+\n",
      "Revita.bg :  10+\n",
      "Blood Glucose Tracker :  100,000+\n",
      "BH by Kinomap :  10,000+\n",
      "BH - Fitness & Nutrition :  1+\n",
      "FitConsole :  50,000+\n",
      "Run on Earth :  50,000+\n",
      "Treadmill Workouts Free (P) :  1,000+\n",
      "The Daily BJ :  500+\n",
      "Hungry Girl Diet Bk. Companion :  1,000+\n",
      "BL ONLINE PERSONAL TRAINING :  5+\n",
      "Poop Tracker - Toilet Log :  10,000+\n",
      "BM Pharmacy :  1,000+\n",
      "BM Physiotherapy Clinic :  100+\n",
      "My BP Lab :  10,000+\n",
      "BP Tracker :  1,000+\n",
      "MI-BP :  50+\n",
      "Deep Breathe BP :  1,000+\n",
      "BP Toolbox :  1,000+\n",
      "Blood pressure :  500,000+\n",
      "Bacterial Vaginosis :  100+\n",
      "Bacterial Vaginosis 🇺🇸 :  500+\n",
      "Bacteria Vaginosis :  1,000,000+\n",
      "Bacterial vaginosis Treatment - Sexual disease :  500+\n",
      "Home Remedies for Bacterial Infections :  50+\n",
      "Benefit Extras Mobile App :  1,000+\n",
      "Kick Axe Bx :  1+\n",
      "CB Martial Arts :  10+\n",
      "CB NFC Pendant :  50+\n",
      "CB Fit :  10+\n",
      "C B Patel Health Club :  100+\n",
      "CF SPOT :  100+\n",
      "CF Talenti :  100+\n",
      "Thrive CF :  100+\n",
      "CF Townsville :  100+\n",
      "CF Etowah :  100+\n",
      "Cystic Fibrosis Symptoms, Doctors & Treatments :  100+\n",
      "CF Themis :  100+\n",
      "CF Riga :  100+\n",
      "Casa CF :  500+\n",
      "CampGladiator :  50,000+\n",
      "CG Fit Scale :  1,000+\n",
      "Pharmacy CI - Pharmacies de garde Côte d'Ivoire :  100,000+\n",
      "Pharmacie de Garde CI et Prix :  100,000+\n",
      "CJ Fitness :  10,000+\n",
      "The CJ Rubric :  100+\n",
      "CK SKILLZ :  50+\n",
      "CK Life :  100+\n",
      "CK Pharmacies :  100+\n",
      "CK Active :  10+\n",
      "CL-Customer Care :  5+\n",
      "CL Strength :  50+\n",
      "The ClubHouse CR :  100+\n",
      "Evolution Marketing CR :  1,000+\n",
      "I AM C.T. :  1,000+\n",
      "Cy's Elma Pharmacy :  10+\n",
      "DG Fitness :  100+\n",
      "DG Xplained :  100+\n",
      "Stop Smoking - EasyQuit free :  500,000+\n",
      "Dr. Muscle :  10,000+\n",
      "DS Companion :  50+\n",
      "Eat Right Diet (by Dt Shreya's Family Diet Clinic) :  10+\n",
      "Dt. Jyothi Srinivas :  100+\n",
      "DT NO.I :  1,000+\n",
      "Bodyworks DW :  10+\n",
      "D.W Bien Être :  10+\n",
      "Cloud DX Connected Health :  100+\n",
      "DY Fitness :  10+\n",
      "PHARMAGUIDE (DZ) :  5,000+\n",
      "DEM DZ :  100+\n",
      "Eb & flow Yoga Studio :  10+\n",
      "EF Coach :  500+\n",
      "EF Academy :  50+\n",
      "Period Tracker, Pregnancy Calculator & Calendar 🌸 :  10,000+\n",
      "EO App. SelfCompassion to you :  100+\n",
      "Nike Training Club - Workouts & Fitness Plans :  10,000,000+\n",
      "Ideal Weight, BMI Calculator :  5,000,000+\n",
      "Fitness & Bodybuilding :  5,000,000+\n",
      "CALIOPE EU: Air Quality :  1,000+\n",
      "Home Workout - No Equipment :  10,000,000+\n",
      "EW MOTION THERAPY :  10+\n",
      "SCI-Ex :  1,000+\n",
      "X your Ex - Break Up Treatment :  5,000+\n",
      "Dream EZ :  10,000+\n",
      "FD Fitness :  50+\n",
      "L!FE Premium Training :  100+\n",
      "Santa Fe Thrive :  50+\n",
      "Burn Your Fat With Me! FG :  1,000,000+\n",
      "FH Calculator :  500+\n",
      "Restaurant Inspections - FL :  10,000+\n",
      "Florida Blue :  100,000+\n"
     ]
    }
   ],
   "source": [
    "for app in android_free:\n",
    "    if app[1] == 'HEALTH_AND_FITNESS':\n",
    "        print(app[0],': ',app[5])"
   ]
  },
  {
   "cell_type": "markdown",
   "id": "80d8980e",
   "metadata": {},
   "source": [
    "The Health and Fitness category consists of the variery of apps, \n",
    "\n",
    "We can look at the apps that are somewhere in the middle in terms of installs. "
   ]
  },
  {
   "cell_type": "code",
   "execution_count": 41,
   "id": "37bca9be",
   "metadata": {},
   "outputs": [
    {
     "name": "stdout",
     "output_type": "stream",
     "text": [
      "Lose Belly Fat in 30 Days - Flat Stomach : 5,000,000+\n",
      "Pedometer - Step Counter Free & Calorie Burner : 1,000,000+\n",
      "Six Pack in 30 Days - Abs Workout : 10,000,000+\n",
      "Lose Weight in 30 Days : 10,000,000+\n",
      "Pedometer : 10,000,000+\n",
      "LG Health : 10,000,000+\n",
      "Step Counter - Pedometer Free & Calorie Counter : 10,000,000+\n",
      "Pedometer, Step Counter & Weight Loss Tracker App : 10,000,000+\n",
      "Sportractive GPS Running Cycling Distance Tracker : 1,000,000+\n",
      "30 Day Fitness Challenge - Workout at Home : 10,000,000+\n",
      "Home Workout for Men - Bodybuilding : 1,000,000+\n",
      "Sleep Sounds : 1,000,000+\n",
      "Fitbit : 10,000,000+\n",
      "Calorie Counter - EasyFit free : 1,000,000+\n",
      "Garmin Connect™ : 10,000,000+\n",
      "BetterMe: Weight Loss Workouts : 5,000,000+\n",
      "Bike Computer - GPS Cycling Tracker : 1,000,000+\n",
      "Running Distance Tracker + : 1,000,000+\n",
      "Runkeeper - GPS Track Run Walk : 10,000,000+\n",
      "Walking: Pedometer diet : 1,000,000+\n",
      "8fit Workouts & Meal Planner : 10,000,000+\n",
      "Keep Trainer - Workout Trainer & Fitness Coach : 1,000,000+\n",
      "PumpUp — Fitness Community : 1,000,000+\n",
      "Home workouts - fat burning, abs, legs, arms,chest : 1,000,000+\n",
      "Running Weight Loss Walking Jogging Hiking FITAPP : 1,000,000+\n",
      "Strava Training: Track Running, Cycling & Swimming : 10,000,000+\n",
      "Workout Trainer: fitness coach : 10,000,000+\n",
      "Fabulous: Motivate Me! Meditate, Relax, Sleep : 5,000,000+\n",
      "StrongLifts 5x5 Workout Gym Log & Personal Trainer : 1,000,000+\n",
      "Run with Map My Run : 5,000,000+\n",
      "7 Minute Workout : 10,000,000+\n",
      "Freeletics: Personal Trainer & Fitness Workouts : 10,000,000+\n",
      "Fitbit Coach : 1,000,000+\n",
      "JEFIT Workout Tracker, Weight Lifting, Gym Log App : 5,000,000+\n",
      "Map My Ride GPS Cycling Riding : 1,000,000+\n",
      "Daily Workouts - Exercise Fitness Routine Trainer : 10,000,000+\n",
      "Google Fit - Fitness Tracking : 10,000,000+\n",
      "Weight Loss Running by Verv : 1,000,000+\n",
      "Sworkit: Workouts & Fitness Plans : 5,000,000+\n",
      "Map My Fitness Workout Trainer : 1,000,000+\n",
      "Sports Tracker Running Cycling : 5,000,000+\n",
      "Seven - 7 Minute Workout Training Challenge : 1,000,000+\n",
      "Daily Yoga - Yoga Fitness Plans : 5,000,000+\n",
      "Relax Meditation: Sleep with Sleep Sounds : 1,000,000+\n",
      "Meditate OM : 1,000,000+\n",
      "Meditation Music - Relax, Yoga : 1,000,000+\n",
      "Simply Yoga - Fitness Trainer for Workouts & Poses : 1,000,000+\n",
      "Relax Melodies: Sleep Sounds : 5,000,000+\n",
      "Headspace: Meditation & Mindfulness : 10,000,000+\n",
      "Pregnancy & Baby Tracker : 1,000,000+\n",
      "My Cycles Period and Ovulation : 1,000,000+\n",
      "I’m Expecting - Pregnancy App : 1,000,000+\n",
      "The Bump Pregnancy Tracker : 1,000,000+\n",
      "My Days - Ovulation Calendar & Period Tracker ™ : 5,000,000+\n",
      "Best Ovulation Tracker Fertility Calendar App Glow : 1,000,000+\n",
      "Eve Period Tracker - Love, Sex & Relationships App : 1,000,000+\n",
      "Fertility Friend Ovulation App : 1,000,000+\n",
      "Period Tracker : 10,000,000+\n",
      "OvuView: Ovulation and Fertility : 1,000,000+\n",
      "Period Tracker Clue: Period and Ovulation Tracker : 10,000,000+\n",
      "Calorie Counter - MyFitnessPal : 50,000,000+\n",
      "WomanLog Calendar : 5,000,000+\n",
      "Geocaching® : 5,000,000+\n",
      "ViewRanger - Hike, Ride or Walk : 1,000,000+\n",
      "Runtastic Mountain Bike GPS Tracker : 1,000,000+\n",
      "AllTrails: Hiking, Running & Mountain Bike Trails : 1,000,000+\n",
      "Water Drink Reminder : 10,000,000+\n",
      "YAZIO Calorie Counter, Nutrition Diary & Diet Plan : 5,000,000+\n",
      "Technutri - calorie counter, diet and carb tracker : 5,000,000+\n",
      "Couch to 5K by RunDouble : 1,000,000+\n",
      "Fooducate Healthy Weight Loss & Calorie Counter : 1,000,000+\n",
      "Weight Watchers Mobile : 5,000,000+\n",
      "Walk with Map My Walk : 5,000,000+\n",
      "My Diet Coach - Weight Loss Motivation & Tracker : 10,000,000+\n",
      "Endomondo - Running & Walking : 10,000,000+\n",
      "Nike+ Run Club : 10,000,000+\n",
      "Lose It! - Calorie Counter : 10,000,000+\n",
      "Runtastic Running App & Mile Tracker : 10,000,000+\n",
      "Calorie Counter - MyNetDiary : 1,000,000+\n",
      "MyPlate Calorie Tracker : 1,000,000+\n",
      "My Diet Diary Calorie Counter : 1,000,000+\n",
      "Weight Loss Tracker - RecStyle : 1,000,000+\n",
      "Calorie Counter & Diet Tracker : 1,000,000+\n",
      "Monitor Your Weight : 5,000,000+\n",
      "Calorie Counter by FatSecret : 10,000,000+\n",
      "Binaural Beats Therapy : 1,000,000+\n",
      "Insight Timer - Free Meditation App : 1,000,000+\n",
      "Prana Breath: Calm & Meditate : 1,000,000+\n",
      "Calm - Meditate, Sleep, Relax : 5,000,000+\n",
      "White Noise Lite : 1,000,000+\n",
      "Stop, Breathe & Think: Meditation & Mindfulness : 1,000,000+\n",
      "Oral-B App : 1,000,000+\n",
      "Ultimate Ab & Core Workouts : 1,000,000+\n",
      "Abs Workout - Burn Belly Fat with No Equipment : 10,000,000+\n",
      "6 Pack Promise - Ultimate Abs : 1,000,000+\n",
      "Daily Ab Workout - Core & Abs Fitness Exercises : 10,000,000+\n",
      "Abs workout 7 minutes : 1,000,000+\n",
      "30 Day Ab Challenge FREE : 1,000,000+\n",
      "Ab Workouts : 1,000,000+\n",
      "Abs workout - 21 Day Fitness Challenge : 1,000,000+\n",
      "Ladies' Ab Workout FREE : 1,000,000+\n",
      "Runtastic Sleep Better: Sleep Cycle & Smart Alarm : 5,000,000+\n",
      "Twilight: Blue light filter : 5,000,000+\n",
      "Women\"s Health Tips(Breast,Face,Body,weight lose) : 1,000,000+\n",
      "Bacteria Vaginosis : 1,000,000+\n",
      "Nike Training Club - Workouts & Fitness Plans : 10,000,000+\n",
      "Ideal Weight, BMI Calculator : 5,000,000+\n",
      "Fitness & Bodybuilding : 5,000,000+\n",
      "Home Workout - No Equipment : 10,000,000+\n",
      "Burn Your Fat With Me! FG : 1,000,000+\n"
     ]
    }
   ],
   "source": [
    "for app in android_free:\n",
    "    if app[1] == 'HEALTH_AND_FITNESS' and (app[5] == '1,000,000+'\n",
    "                                            or app[5] == '5,000,000+'\n",
    "                                            or app[5] == '10,000,000+'\n",
    "                                            or app[5] == '50,000,000+'):\n",
    "        print(app[0], ':', app[5])"
   ]
  },
  {
   "cell_type": "markdown",
   "id": "439f0e7e",
   "metadata": {},
   "source": [
    "The Health and Fitness category offers a diverse range of apps, encompassing fitness trackers, calorie counters, step trackers, personalized workout apps, gym-related applications, and more. While there is a plethora of options for physical health, there is a relatively limited selection of apps specifically tailored to mental health, meditation, and yoga. "
   ]
  },
  {
   "cell_type": "markdown",
   "id": "a6835cdc",
   "metadata": {},
   "source": [
    "### Conclusion \n",
    "In our project, we examined data pertaining to mobile apps on the App Store and Google Play. Our objective was to suggest an app profile that could be prifitable in both markets. Our findings indicate that developing a health-related app, particularly one centered around mental health, could be a profitable venture for both platforms. However, to make an informed decision, a more thorough analysis of these mental health and wellness apps is needed."
   ]
  }
 ],
 "metadata": {
  "kernelspec": {
   "display_name": "Python 3 (ipykernel)",
   "language": "python",
   "name": "python3"
  },
  "language_info": {
   "codemirror_mode": {
    "name": "ipython",
    "version": 3
   },
   "file_extension": ".py",
   "mimetype": "text/x-python",
   "name": "python",
   "nbconvert_exporter": "python",
   "pygments_lexer": "ipython3",
   "version": "3.10.9"
  }
 },
 "nbformat": 4,
 "nbformat_minor": 5
}
